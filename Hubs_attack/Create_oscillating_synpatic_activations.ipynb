{
 "cells": [
  {
   "cell_type": "code",
   "execution_count": 21,
   "metadata": {
    "ExecuteTime": {
     "end_time": "2020-06-23T15:56:00.066644Z",
     "start_time": "2020-06-23T15:56:00.059057Z"
    }
   },
   "outputs": [
    {
     "name": "stdout",
     "output_type": "stream",
     "text": [
      "Using matplotlib backend: Qt5Agg\n",
      "Populating the interactive namespace from numpy and matplotlib\n"
     ]
    }
   ],
   "source": [
    "import os\n",
    "import numpy as np\n",
    "import pickle\n",
    "from tqdm.notebook import tqdm\n",
    "%pylab\n",
    "%matplotlib inline"
   ]
  },
  {
   "cell_type": "code",
   "execution_count": 80,
   "metadata": {
    "ExecuteTime": {
     "end_time": "2020-06-23T17:55:57.617256Z",
     "start_time": "2020-06-23T17:55:57.561442Z"
    }
   },
   "outputs": [],
   "source": [
    "AxoGidToXY = pickle.load(open(os.environ['HOME'] + '/AxoGidToXY.p','rb'),encoding='latin1')\n",
    "def create_normalization_factor(vari):# { LOCAL temps,temps1, precision : I need to think how can I change this code so that changing the vari.\n",
    "    temps  = 0\n",
    "    temps1 = 0\n",
    "    precision =10000\n",
    "    for i in range(0,precision):\n",
    "        temps  = temps +  (np.sin( (1.5+(i/precision)*2)  * np.pi)+1)*(1/precision)\n",
    "        temps1 = temps1 + (( (np.sin((1.5+(i/precision)*2)* np.pi)+1))**vari)*(1/precision)\n",
    "\n",
    "    factor = temps/temps1   \n",
    "    return(factor)\n",
    "\n",
    "axon_spontanues_firing_rate =0\n",
    "axon_stim_firing_rate = 1.5\n",
    "vari = 1\n",
    "factor = create_normalization_factor(vari)\n",
    "phase = 0\n",
    "freq = 10\n",
    "\n",
    "mod_freq1 = freq * 2  * np.pi/1000.0\n",
    "\n",
    "\n",
    "stim_end_time = 3000\n",
    "    \n",
    "\n",
    "\n",
    "def fr_function(t):\n",
    "    return (axon_spontanues_firing_rate + factor*axon_stim_firing_rate*((np.sin((t+phase)*mod_freq1-0.5*np.pi)+1)**vari))/1000.0\n",
    "\n",
    "\n",
    "\n",
    "def create_thalamic_spikes(fr_function, stim_end_time, seed):\n",
    "    print('creating spike times - START')\n",
    "    thalamic_rnd = np.random.RandomState(seed)\n",
    "    sp_per_axon_gid = {}\n",
    "    for axon_gid in tqdm(AxoGidToXY.keys()):\n",
    "        spike_times = []\n",
    "        t = 0 \n",
    "        lamd = max_firing_rate #Do I need to multiply in 2?? I can multiply just to make sure, but it will make everything slow\n",
    "        while (t<=stim_end_time):#{ :this Algorithm is from http://freakonometrics.hypotheses.org/724  from this paper. http://filebox.vt.edu/users/pasupath/papers/nonhompoisson_streams.pdf\n",
    "            u = thalamic_rnd.uniform()\n",
    "            t = t - np.log(u)/lamd\n",
    "            if t<=stim_end_time:\n",
    "                if thalamic_rnd.uniform() <= fr_function(t)/lamd:\n",
    "                    invl=t\n",
    "                    spike_times.append(invl)\n",
    "        sp_per_axon_gid[axon_gid] = spike_times\n",
    "    print('creating spike times - END')\n",
    "    return(sp_per_axon_gid)\n"
   ]
  },
  {
   "cell_type": "code",
   "execution_count": 81,
   "metadata": {
    "ExecuteTime": {
     "end_time": "2020-06-23T17:55:57.961894Z",
     "start_time": "2020-06-23T17:55:57.793840Z"
    }
   },
   "outputs": [
    {
     "name": "stdout",
     "output_type": "stream",
     "text": [
      "creating spike times - START\n"
     ]
    },
    {
     "data": {
      "application/vnd.jupyter.widget-view+json": {
       "model_id": "c1faa703328d4362bcb07b2e1cd68328",
       "version_major": 2,
       "version_minor": 0
      },
      "text/plain": [
       "HBox(children=(FloatProgress(value=0.0, max=574.0), HTML(value='')))"
      ]
     },
     "metadata": {},
     "output_type": "display_data"
    },
    {
     "name": "stdout",
     "output_type": "stream",
     "text": [
      "\n",
      "creating spike times - END\n"
     ]
    }
   ],
   "source": [
    "aa = create_thalamic_spikes(fr_function,3000,10)"
   ]
  },
  {
   "cell_type": "code",
   "execution_count": 82,
   "metadata": {
    "ExecuteTime": {
     "end_time": "2020-06-23T17:55:58.367184Z",
     "start_time": "2020-06-23T17:55:58.011425Z"
    }
   },
   "outputs": [
    {
     "data": {
      "text/plain": [
       "<BarContainer object of 100 artists>"
      ]
     },
     "execution_count": 82,
     "metadata": {},
     "output_type": "execute_result"
    },
    {
     "data": {
      "image/png": "[encoded data removed]",
      "text/plain": [
       "<Figure size 432x288 with 1 Axes>"
      ]
     },
     "metadata": {
      "needs_background": "light"
     },
     "output_type": "display_data"
    }
   ],
   "source": [
    "vals, bins = histogram([i for j in aa.values() for i in j],100)\n",
    "\n",
    "bar(bins[:-1],vals/len(aa.values())/(bins[1]-bins[0])*1000,width=35)"
   ]
  },
  {
   "cell_type": "code",
   "execution_count": 77,
   "metadata": {
    "ExecuteTime": {
     "end_time": "2020-06-23T17:55:20.607823Z",
     "start_time": "2020-06-23T17:55:20.603477Z"
    }
   },
   "outputs": [
    {
     "data": {
      "text/plain": [
       "array([0, 0, 0, 0, 0, 0, 0, 0, 0, 0, 0, 0, 0, 0, 0, 0, 0, 0, 0, 0, 0, 0,\n",
       "       0, 0, 0, 0, 0, 0, 0, 0, 0, 0, 0, 0, 0, 0, 0, 0, 0, 0, 0, 0, 0, 0,\n",
       "       0, 0, 0, 0, 0, 0, 0, 0, 0, 0, 0, 0, 0, 0, 0, 0, 0, 0, 0, 0, 0, 0,\n",
       "       0, 0, 0, 0, 0, 0, 0, 0, 0, 0, 0, 0, 0, 0, 0, 0, 0, 0, 0, 0, 0, 0,\n",
       "       0, 0, 0, 0, 0, 0, 0, 0, 0, 0, 0, 0])"
      ]
     },
     "execution_count": 77,
     "metadata": {},
     "output_type": "execute_result"
    }
   ],
   "source": [
    "vals"
   ]
  },
  {
   "cell_type": "code",
   "execution_count": 46,
   "metadata": {
    "ExecuteTime": {
     "end_time": "2020-06-23T15:58:51.999709Z",
     "start_time": "2020-06-23T15:58:51.989918Z"
    }
   },
   "outputs": [
    {
     "data": {
      "text/plain": [
       "(array([  23,   18,   19,   37,  115,  329,  659,  954, 1035,  730,  421,\n",
       "         177,   50,   20,   22,   19,   14,   26,   13,   20,   47,  136,\n",
       "         399,  784, 1086, 1024,  682,  301,  112,   26,   13,   22,   22,\n",
       "          27,   19,   14,   24,   61,  199,  496,  864, 1028,  895,  503,\n",
       "         240,   62,   29,   18,   20,   18,   10,   26,   23,   22,   89,\n",
       "         270,  621,  935, 1037,  829,  454,  157,   45,   17,   14,   19,\n",
       "          19,   23,   13,   25,   38,  124,  393,  745, 1015,  954,  721,\n",
       "         336,  136,   36,   23,   18,   20,   16,   10,   16,   21,   55,\n",
       "         160,  433,  780, 1099,  916,  574,  258,   80,   21,   14,   10,\n",
       "          19]),\n",
       " array([   5.81679667,   35.74482787,   65.67285906,   95.60089025,\n",
       "         125.52892145,  155.45695264,  185.38498384,  215.31301503,\n",
       "         245.24104623,  275.16907742,  305.09710862,  335.02513981,\n",
       "         364.95317101,  394.8812022 ,  424.80923339,  454.73726459,\n",
       "         484.66529578,  514.59332698,  544.52135817,  574.44938937,\n",
       "         604.37742056,  634.30545176,  664.23348295,  694.16151415,\n",
       "         724.08954534,  754.01757653,  783.94560773,  813.87363892,\n",
       "         843.80167012,  873.72970131,  903.65773251,  933.5857637 ,\n",
       "         963.5137949 ,  993.44182609, 1023.36985729, 1053.29788848,\n",
       "        1083.22591967, 1113.15395087, 1143.08198206, 1173.01001326,\n",
       "        1202.93804445, 1232.86607565, 1262.79410684, 1292.72213804,\n",
       "        1322.65016923, 1352.57820043, 1382.50623162, 1412.43426281,\n",
       "        1442.36229401, 1472.2903252 , 1502.2183564 , 1532.14638759,\n",
       "        1562.07441879, 1592.00244998, 1621.93048118, 1651.85851237,\n",
       "        1681.78654356, 1711.71457476, 1741.64260595, 1771.57063715,\n",
       "        1801.49866834, 1831.42669954, 1861.35473073, 1891.28276193,\n",
       "        1921.21079312, 1951.13882432, 1981.06685551, 2010.9948867 ,\n",
       "        2040.9229179 , 2070.85094909, 2100.77898029, 2130.70701148,\n",
       "        2160.63504268, 2190.56307387, 2220.49110507, 2250.41913626,\n",
       "        2280.34716746, 2310.27519865, 2340.20322984, 2370.13126104,\n",
       "        2400.05929223, 2429.98732343, 2459.91535462, 2489.84338582,\n",
       "        2519.77141701, 2549.69944821, 2579.6274794 , 2609.5555106 ,\n",
       "        2639.48354179, 2669.41157298, 2699.33960418, 2729.26763537,\n",
       "        2759.19566657, 2789.12369776, 2819.05172896, 2848.97976015,\n",
       "        2878.90779135, 2908.83582254, 2938.76385374, 2968.69188493,\n",
       "        2998.61991612]))"
      ]
     },
     "execution_count": 46,
     "metadata": {},
     "output_type": "execute_result"
    }
   ],
   "source": [
    "histogram([i for j in aa.values() for i in j],100)"
   ]
  },
  {
   "cell_type": "code",
   "execution_count": null,
   "metadata": {},
   "outputs": [],
   "source": []
  }
 ],
 "metadata": {
  "kernelspec": {
   "display_name": "Python 3",
   "language": "python",
   "name": "python3"
  },
  "toc": {
   "base_numbering": 1,
   "nav_menu": {},
   "number_sections": true,
   "sideBar": true,
   "skip_h1_title": false,
   "title_cell": "Table of Contents",
   "title_sidebar": "Contents",
   "toc_cell": false,
   "toc_position": {},
   "toc_section_display": true,
   "toc_window_display": false
  }
 },
 "nbformat": 4,
 "nbformat_minor": 4
}
